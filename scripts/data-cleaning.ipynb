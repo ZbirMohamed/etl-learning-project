{
 "cells": [
  {
   "cell_type": "code",
   "execution_count": 1,
   "id": "initial_id",
   "metadata": {
    "collapsed": true,
    "ExecuteTime": {
     "end_time": "2025-03-04T22:02:31.945571Z",
     "start_time": "2025-03-04T22:02:26.461471Z"
    }
   },
   "outputs": [],
   "source": [
    "import pandas as pd\n",
    "import sqlalchemy.sql\n",
    "from db import engine , engine_core"
   ]
  },
  {
   "cell_type": "code",
   "outputs": [
    {
     "data": {
      "text/plain": "                           order_id                       customer_id  \\\n0  00061f2a7bc09da83e415a52dc8a4af1  c6fc061d86fab1e2b2eac259bac71a49   \n1  0009c9a17f916a706d71784483a5d643  8a250edc40ebc5c3940ebc940f16a7eb   \n2  000e906b789b55f64edcb1f84030f90d  6a3b2fc9f270df258605e22bef19fd88   \n3  000f25f4d72195062c040b12dce9a18a  86ade8ebc14f18dd6c3ea75bd0eb7534   \n4  0014ae671de39511f7575066200733b7  41065d9dcea52218c3943d2eed072b97   \n\n  order_status order_purchase_timestamp    order_approved_at  \\\n0    delivered      2018-03-24 22:16:10  2018-03-24 22:28:09   \n1    delivered      2018-04-25 09:10:41  2018-04-25 09:33:19   \n2    delivered      2017-11-21 18:54:23  2017-11-21 19:09:02   \n3    delivered      2018-03-07 10:33:13  2018-03-07 11:10:11   \n4    delivered      2017-05-22 13:49:03  2017-05-23 03:15:24   \n\n  order_delivered_carrier_date order_delivered_customer_date  \\\n0          2018-03-27 05:26:55           2018-03-29 00:04:19   \n1          2018-04-27 15:14:00           2018-04-30 17:54:25   \n2          2017-11-22 20:46:54           2017-12-09 17:27:23   \n3          2018-03-16 15:58:31           2018-03-22 16:51:52   \n4          2017-05-29 09:04:02           2017-06-07 13:52:52   \n\n  order_estimated_delivery_date                        product_id  \\\n0           2018-04-09 00:00:00  d63c1011f49d98b976c352955b1c4bea   \n1           2018-05-09 00:00:00  3f27ac8e699df3d300ec4a5d8c5cf0b2   \n2           2017-12-07 00:00:00  57d79905de06d8897872c551bfd09358   \n3           2018-04-11 00:00:00  1c05e0964302b6cf68ca0d15f326c6ba   \n4           2017-06-13 00:00:00  23365beed316535b4105bd800c46670e   \n\n                          seller_id   price  freight_value  \n0  cc419e0650a3c5ba77189a1882b7556a   59.99           8.88  \n1  fcb5ace8bcc92f75707dc0f01a27d269  639.00          11.34  \n2  ea8482cd71df3c1969d7b9473ff13abc   21.99          11.85  \n3  7c67e1448b00f6e969d365cea6b010ab  119.99          44.40  \n4  92eb0f42c21942b6552362b9b114707d   16.50          14.10  ",
      "text/html": "<div>\n<style scoped>\n    .dataframe tbody tr th:only-of-type {\n        vertical-align: middle;\n    }\n\n    .dataframe tbody tr th {\n        vertical-align: top;\n    }\n\n    .dataframe thead th {\n        text-align: right;\n    }\n</style>\n<table border=\"1\" class=\"dataframe\">\n  <thead>\n    <tr style=\"text-align: right;\">\n      <th></th>\n      <th>order_id</th>\n      <th>customer_id</th>\n      <th>order_status</th>\n      <th>order_purchase_timestamp</th>\n      <th>order_approved_at</th>\n      <th>order_delivered_carrier_date</th>\n      <th>order_delivered_customer_date</th>\n      <th>order_estimated_delivery_date</th>\n      <th>product_id</th>\n      <th>seller_id</th>\n      <th>price</th>\n      <th>freight_value</th>\n    </tr>\n  </thead>\n  <tbody>\n    <tr>\n      <th>0</th>\n      <td>00061f2a7bc09da83e415a52dc8a4af1</td>\n      <td>c6fc061d86fab1e2b2eac259bac71a49</td>\n      <td>delivered</td>\n      <td>2018-03-24 22:16:10</td>\n      <td>2018-03-24 22:28:09</td>\n      <td>2018-03-27 05:26:55</td>\n      <td>2018-03-29 00:04:19</td>\n      <td>2018-04-09 00:00:00</td>\n      <td>d63c1011f49d98b976c352955b1c4bea</td>\n      <td>cc419e0650a3c5ba77189a1882b7556a</td>\n      <td>59.99</td>\n      <td>8.88</td>\n    </tr>\n    <tr>\n      <th>1</th>\n      <td>0009c9a17f916a706d71784483a5d643</td>\n      <td>8a250edc40ebc5c3940ebc940f16a7eb</td>\n      <td>delivered</td>\n      <td>2018-04-25 09:10:41</td>\n      <td>2018-04-25 09:33:19</td>\n      <td>2018-04-27 15:14:00</td>\n      <td>2018-04-30 17:54:25</td>\n      <td>2018-05-09 00:00:00</td>\n      <td>3f27ac8e699df3d300ec4a5d8c5cf0b2</td>\n      <td>fcb5ace8bcc92f75707dc0f01a27d269</td>\n      <td>639.00</td>\n      <td>11.34</td>\n    </tr>\n    <tr>\n      <th>2</th>\n      <td>000e906b789b55f64edcb1f84030f90d</td>\n      <td>6a3b2fc9f270df258605e22bef19fd88</td>\n      <td>delivered</td>\n      <td>2017-11-21 18:54:23</td>\n      <td>2017-11-21 19:09:02</td>\n      <td>2017-11-22 20:46:54</td>\n      <td>2017-12-09 17:27:23</td>\n      <td>2017-12-07 00:00:00</td>\n      <td>57d79905de06d8897872c551bfd09358</td>\n      <td>ea8482cd71df3c1969d7b9473ff13abc</td>\n      <td>21.99</td>\n      <td>11.85</td>\n    </tr>\n    <tr>\n      <th>3</th>\n      <td>000f25f4d72195062c040b12dce9a18a</td>\n      <td>86ade8ebc14f18dd6c3ea75bd0eb7534</td>\n      <td>delivered</td>\n      <td>2018-03-07 10:33:13</td>\n      <td>2018-03-07 11:10:11</td>\n      <td>2018-03-16 15:58:31</td>\n      <td>2018-03-22 16:51:52</td>\n      <td>2018-04-11 00:00:00</td>\n      <td>1c05e0964302b6cf68ca0d15f326c6ba</td>\n      <td>7c67e1448b00f6e969d365cea6b010ab</td>\n      <td>119.99</td>\n      <td>44.40</td>\n    </tr>\n    <tr>\n      <th>4</th>\n      <td>0014ae671de39511f7575066200733b7</td>\n      <td>41065d9dcea52218c3943d2eed072b97</td>\n      <td>delivered</td>\n      <td>2017-05-22 13:49:03</td>\n      <td>2017-05-23 03:15:24</td>\n      <td>2017-05-29 09:04:02</td>\n      <td>2017-06-07 13:52:52</td>\n      <td>2017-06-13 00:00:00</td>\n      <td>23365beed316535b4105bd800c46670e</td>\n      <td>92eb0f42c21942b6552362b9b114707d</td>\n      <td>16.50</td>\n      <td>14.10</td>\n    </tr>\n  </tbody>\n</table>\n</div>"
     },
     "execution_count": 3,
     "metadata": {},
     "output_type": "execute_result"
    }
   ],
   "source": [
    "sales_query = \"\"\"\n",
    "SELECT \n",
    "\to.order_id,\n",
    "\tcustomer_id,\n",
    "\torder_status,\n",
    "\torder_purchase_timestamp,\n",
    "\torder_approved_at,\n",
    "\torder_delivered_carrier_date,\n",
    "\torder_delivered_customer_date,\n",
    "\torder_estimated_delivery_date,\n",
    "\ti.product_id,\n",
    "\ti.seller_id,\n",
    "\tprice,\n",
    "\tfreight_value \n",
    "FROM \n",
    "\torders o\n",
    "LEFT JOIN items i\n",
    "\tON o.order_id  = i.order_id;\n",
    "\"\"\"\n",
    "sales_df = pd.read_sql(sales_query,engine)\n",
    "sales_df.head()"
   ],
   "metadata": {
    "collapsed": false,
    "ExecuteTime": {
     "end_time": "2025-03-03T22:11:26.258579Z",
     "start_time": "2025-03-03T22:11:24.843056Z"
    }
   },
   "id": "39d6c80f2cea448e",
   "execution_count": 3
  },
  {
   "cell_type": "code",
   "outputs": [
    {
     "name": "stdout",
     "output_type": "stream",
     "text": [
      "<class 'pandas.core.frame.DataFrame'>\n",
      "RangeIndex: 113425 entries, 0 to 113424\n",
      "Data columns (total 12 columns):\n",
      " #   Column                         Non-Null Count   Dtype  \n",
      "---  ------                         --------------   -----  \n",
      " 0   order_id                       113425 non-null  object \n",
      " 1   customer_id                    113425 non-null  object \n",
      " 2   order_status                   113425 non-null  object \n",
      " 3   order_purchase_timestamp       113425 non-null  object \n",
      " 4   order_approved_at              113264 non-null  object \n",
      " 5   order_delivered_carrier_date   111457 non-null  object \n",
      " 6   order_delivered_customer_date  110196 non-null  object \n",
      " 7   order_estimated_delivery_date  113425 non-null  object \n",
      " 8   product_id                     112650 non-null  object \n",
      " 9   seller_id                      112650 non-null  object \n",
      " 10  price                          112650 non-null  float64\n",
      " 11  freight_value                  112650 non-null  float64\n",
      "dtypes: float64(2), object(10)\n",
      "memory usage: 10.4+ MB\n"
     ]
    }
   ],
   "source": [
    "## getting null values count so we can transform them into usable data for our visualisation\n",
    "sales_df.info()"
   ],
   "metadata": {
    "collapsed": false,
    "ExecuteTime": {
     "end_time": "2025-03-03T22:11:28.710450Z",
     "start_time": "2025-03-03T22:11:28.638309Z"
    }
   },
   "id": "b3af6c45a0569278",
   "execution_count": 4
  },
  {
   "cell_type": "code",
   "outputs": [
    {
     "data": {
      "text/plain": "order_id                         False\ncustomer_id                      False\norder_status                     False\norder_purchase_timestamp         False\norder_approved_at                 True\norder_delivered_carrier_date      True\norder_delivered_customer_date     True\norder_estimated_delivery_date    False\nproduct_id                        True\nseller_id                         True\nprice                             True\nfreight_value                     True\ndtype: bool"
     },
     "execution_count": 3,
     "metadata": {},
     "output_type": "execute_result"
    }
   ],
   "source": [
    "sales_df.isnull().any() # Returns True if the column contains any NaN"
   ],
   "metadata": {
    "collapsed": false,
    "ExecuteTime": {
     "end_time": "2025-03-03T22:05:47.037441Z",
     "start_time": "2025-03-03T22:05:46.988298Z"
    }
   },
   "id": "aa730e91a61117a8",
   "execution_count": 3
  },
  {
   "cell_type": "code",
   "outputs": [
    {
     "data": {
      "text/plain": "array(['unavailable', 'canceled', 'created', 'shipped', 'invoiced'],\n      dtype=object)"
     },
     "execution_count": 4,
     "metadata": {},
     "output_type": "execute_result"
    }
   ],
   "source": [
    "sales_df.loc[sales_df[\"product_id\"].isnull(), \"order_status\"].unique()"
   ],
   "metadata": {
    "collapsed": false,
    "ExecuteTime": {
     "end_time": "2025-03-03T21:38:27.846184Z",
     "start_time": "2025-03-03T21:38:27.828252Z"
    }
   },
   "id": "1f22bba451c5bfb0",
   "execution_count": 4
  },
  {
   "cell_type": "code",
   "outputs": [
    {
     "data": {
      "text/plain": "order_status\ndelivered      110197\nshipped          1186\ncanceled          706\nunavailable       610\ninvoiced          361\nprocessing        357\ncreated             5\napproved            3\nName: count, dtype: int64"
     },
     "execution_count": 5,
     "metadata": {},
     "output_type": "execute_result"
    }
   ],
   "source": [
    "sales_df['order_status'].value_counts()"
   ],
   "metadata": {
    "collapsed": false,
    "ExecuteTime": {
     "end_time": "2025-03-03T21:38:30.714326Z",
     "start_time": "2025-03-03T21:38:30.698136Z"
    }
   },
   "id": "8edb9c80e3ef76d4",
   "execution_count": 5
  },
  {
   "cell_type": "code",
   "outputs": [],
   "source": [
    "sales_df[\"product_id\"] = sales_df[\"product_id\"].fillna(\"999\")\n",
    "sales_df[\"seller_id\"] = sales_df[\"seller_id\"].fillna(\"999\")\n",
    "sales_df['order_approved_at'] = sales_df['order_approved_at'].fillna(\"19900101\")\n",
    "sales_df['order_delivered_carrier_date'] = sales_df['order_delivered_carrier_date'].fillna(\"19900101\")\n",
    "sales_df['order_delivered_customer_date'] = sales_df['order_delivered_customer_date'].fillna(\"19900101\")"
   ],
   "metadata": {
    "collapsed": false,
    "ExecuteTime": {
     "end_time": "2025-03-03T22:11:37.867851Z",
     "start_time": "2025-03-03T22:11:37.804981Z"
    }
   },
   "id": "3f18f0a2db58001d",
   "execution_count": 5
  },
  {
   "cell_type": "code",
   "outputs": [
    {
     "data": {
      "text/plain": "order_id                         False\ncustomer_id                      False\norder_status                     False\norder_purchase_timestamp         False\norder_approved_at                False\norder_delivered_carrier_date     False\norder_delivered_customer_date    False\norder_estimated_delivery_date    False\nproduct_id                       False\nseller_id                        False\nprice                             True\nfreight_value                     True\ndtype: bool"
     },
     "execution_count": 5,
     "metadata": {},
     "output_type": "execute_result"
    }
   ],
   "source": [
    "sales_df.isnull().any()"
   ],
   "metadata": {
    "collapsed": false,
    "ExecuteTime": {
     "end_time": "2025-03-03T22:05:55.050440Z",
     "start_time": "2025-03-03T22:05:55.001578Z"
    }
   },
   "id": "96f143d54c999a03",
   "execution_count": 5
  },
  {
   "cell_type": "code",
   "outputs": [
    {
     "data": {
      "text/plain": "0    2018-03-29 00:04:19\n1    2018-04-30 17:54:25\n2    2017-12-09 17:27:23\n3    2018-03-22 16:51:52\n4    2017-06-07 13:52:52\nName: order_delivered_customer_date, dtype: object"
     },
     "execution_count": 6,
     "metadata": {},
     "output_type": "execute_result"
    }
   ],
   "source": [
    "sales_df['order_delivered_customer_date'].head()"
   ],
   "metadata": {
    "collapsed": false,
    "ExecuteTime": {
     "end_time": "2025-03-03T22:05:58.071382Z",
     "start_time": "2025-03-03T22:05:58.064571Z"
    }
   },
   "id": "de8ecf444246cb62",
   "execution_count": 6
  },
  {
   "cell_type": "code",
   "outputs": [
    {
     "data": {
      "text/plain": "dtype('O')"
     },
     "execution_count": 12,
     "metadata": {},
     "output_type": "execute_result"
    }
   ],
   "source": [
    "sales_df['order_delivered_customer_date'].dtypes"
   ],
   "metadata": {
    "collapsed": false,
    "ExecuteTime": {
     "end_time": "2025-03-03T21:40:11.496278Z",
     "start_time": "2025-03-03T21:40:11.491512Z"
    }
   },
   "id": "6f184cbffea1569f",
   "execution_count": 12
  },
  {
   "cell_type": "code",
   "outputs": [],
   "source": [
    "sales_df['order_delivered_customer_date'] = pd.to_datetime(sales_df['order_delivered_customer_date'], errors='coerce')\n",
    "sales_df['order_estimated_delivery_date'] = pd.to_datetime(sales_df['order_estimated_delivery_date'], errors='coerce')\n",
    "sales_df['order_delivered_carrier_date'] = pd.to_datetime(sales_df['order_delivered_carrier_date'], errors='coerce')\n",
    "sales_df['order_purchase_timestamp'] = pd.to_datetime(sales_df['order_purchase_timestamp'], errors='coerce')"
   ],
   "metadata": {
    "collapsed": false,
    "ExecuteTime": {
     "end_time": "2025-03-03T22:11:44.293054Z",
     "start_time": "2025-03-03T22:11:44.097593Z"
    }
   },
   "id": "149fca22c3ba3e99",
   "execution_count": 6
  },
  {
   "cell_type": "code",
   "outputs": [
    {
     "data": {
      "text/plain": "dtype('<M8[ns]')"
     },
     "execution_count": 7,
     "metadata": {},
     "output_type": "execute_result"
    }
   ],
   "source": [
    "sales_df['order_delivered_customer_date'].dtypes"
   ],
   "metadata": {
    "collapsed": false,
    "ExecuteTime": {
     "end_time": "2025-03-03T22:11:45.976115Z",
     "start_time": "2025-03-03T22:11:45.971128Z"
    }
   },
   "id": "932aa7854f51b557",
   "execution_count": 7
  },
  {
   "cell_type": "code",
   "outputs": [
    {
     "data": {
      "text/plain": "                                order_id                       customer_id  \\\n7       001d8f0e34a38c37f7dba2a37d4eba8b  d987da9fb4086ab7c2c0f83963cd6722   \n45      00f6ac4816d12f49026b09f2aa77d15f  9bb70fa63970b9d88191a90481d551da   \n46      00f6ac4816d12f49026b09f2aa77d15f  9bb70fa63970b9d88191a90481d551da   \n55      01115c06246220def210911556bdc0e5  7db5bde0f0fcee8817a4c317cf05429a   \n71      014e36af18c280a94d880a16b2f00713  0523cd19f27a70bda29f2efb68a2db10   \n...                                  ...                               ...   \n113264  ff4935343715e7a6dae3e550f73a6459  8bbd68396f2112f979111bfdd363e286   \n113278  ff9770f7299db492e5fe01b4a231341b  c57b89d756843557ab53f7c679ea0572   \n113286  ffb18bf111fa70edf316eb0390427986  5c8f393ae866c2a2d2e775dbc2409a59   \n113289  ffb9a9cd00c74c11c24aa30b3d78e03b  81a0150b8f472d0e5e82a7da198b93bc   \n113315  fff8287bbae429a99bb7e8c21d151c41  6c1e92a209dbf868706caa831090941e   \n\n       order_status order_purchase_timestamp    order_approved_at  \\\n7         delivered      2017-05-14 17:19:44  2017-05-14 17:35:11   \n45        delivered      2018-08-06 17:17:40  2018-08-06 17:30:14   \n46        delivered      2018-08-06 17:17:40  2018-08-06 17:30:14   \n55        delivered      2018-03-14 09:20:38  2018-03-14 09:35:34   \n71        delivered      2017-11-01 18:14:32  2017-11-02 02:35:56   \n...             ...                      ...                  ...   \n113264    delivered      2017-10-10 15:41:10  2017-10-12 02:29:16   \n113278    delivered      2018-03-12 07:41:09  2018-03-12 07:50:28   \n113286    delivered      2017-11-27 13:29:05  2017-11-27 13:39:22   \n113289    delivered      2017-03-11 17:20:21  2017-03-11 17:20:21   \n113315    delivered      2018-03-17 12:11:45  2018-03-17 12:29:22   \n\n       order_delivered_carrier_date order_delivered_customer_date  \\\n7               2017-05-24 15:45:01           2017-05-26 13:14:50   \n45              2018-08-07 14:39:00           2018-08-13 16:18:48   \n46              2018-08-07 14:39:00           2018-08-13 16:18:48   \n55              2018-03-14 19:22:05           2018-04-03 00:07:46   \n71              2017-11-03 19:14:58           2017-11-09 20:18:46   \n...                             ...                           ...   \n113264          2017-10-16 20:57:40           2017-10-23 18:43:06   \n113278          2018-03-16 18:06:53           2018-04-04 15:05:24   \n113286          2017-11-28 22:15:05           2017-12-05 18:38:53   \n113289          2017-03-22 08:48:30           2017-03-28 15:26:02   \n113315          2018-03-21 19:22:25           2018-04-07 10:07:48   \n\n       order_estimated_delivery_date                        product_id  \\\n7                         2017-05-24  e67307ff0f15ade43fcb6e670be7a74c   \n45                        2018-08-27  b532349fe46b38fbc7bb3914c1bdae07   \n46                        2018-08-27  b532349fe46b38fbc7bb3914c1bdae07   \n55                        2018-04-04  c31539851232e3accbf0ef4c571f97f2   \n71                        2017-11-23  33f789f4b4fa74053af0199658b78853   \n...                              ...                               ...   \n113264                    2017-11-13  013e6676e0e3529e5909ff54370daddf   \n113278                    2018-04-06  67bd616e1ba0d3d3e8545f3113b0140d   \n113286                    2017-12-21  599dc392f7a23273471b068d72408224   \n113289                    2017-04-13  fec565c4e3ad965c73fb1a21bb809257   \n113315                    2018-04-19  bee2e070c39f3dd2f6883a17a5f0da45   \n\n                               seller_id   price  freight_value  \n7       f4aba7c0bca51484c30ab7bdc34bcdd1   18.99           7.78  \n45      1025f0e2d44d7041d6cf58b6550e0bfa   35.00          19.44  \n46      1025f0e2d44d7041d6cf58b6550e0bfa   35.00          19.44  \n55      602044f2c16190c2c6e45eb35c2e21cb   52.50          19.34  \n71      897060da8b9a21f655304d50fd935913   30.00          12.69  \n...                                  ...     ...            ...  \n113264  1c68394e931a64f90ea236c5ea590300  299.90          16.85  \n113278  e9779976487b77c6d4ac45f75ec7afe9   16.49          18.23  \n113286  a08692680c77d30a0b4280da5df01c5a  235.00          19.30  \n113289  da8622b14eb17ae2831f4ac5b9dab84a   89.90          18.34  \n113315  4e922959ae960d389249c378d1c939f5  180.00          48.14  \n\n[10225 rows x 12 columns]",
      "text/html": "<div>\n<style scoped>\n    .dataframe tbody tr th:only-of-type {\n        vertical-align: middle;\n    }\n\n    .dataframe tbody tr th {\n        vertical-align: top;\n    }\n\n    .dataframe thead th {\n        text-align: right;\n    }\n</style>\n<table border=\"1\" class=\"dataframe\">\n  <thead>\n    <tr style=\"text-align: right;\">\n      <th></th>\n      <th>order_id</th>\n      <th>customer_id</th>\n      <th>order_status</th>\n      <th>order_purchase_timestamp</th>\n      <th>order_approved_at</th>\n      <th>order_delivered_carrier_date</th>\n      <th>order_delivered_customer_date</th>\n      <th>order_estimated_delivery_date</th>\n      <th>product_id</th>\n      <th>seller_id</th>\n      <th>price</th>\n      <th>freight_value</th>\n    </tr>\n  </thead>\n  <tbody>\n    <tr>\n      <th>7</th>\n      <td>001d8f0e34a38c37f7dba2a37d4eba8b</td>\n      <td>d987da9fb4086ab7c2c0f83963cd6722</td>\n      <td>delivered</td>\n      <td>2017-05-14 17:19:44</td>\n      <td>2017-05-14 17:35:11</td>\n      <td>2017-05-24 15:45:01</td>\n      <td>2017-05-26 13:14:50</td>\n      <td>2017-05-24</td>\n      <td>e67307ff0f15ade43fcb6e670be7a74c</td>\n      <td>f4aba7c0bca51484c30ab7bdc34bcdd1</td>\n      <td>18.99</td>\n      <td>7.78</td>\n    </tr>\n    <tr>\n      <th>45</th>\n      <td>00f6ac4816d12f49026b09f2aa77d15f</td>\n      <td>9bb70fa63970b9d88191a90481d551da</td>\n      <td>delivered</td>\n      <td>2018-08-06 17:17:40</td>\n      <td>2018-08-06 17:30:14</td>\n      <td>2018-08-07 14:39:00</td>\n      <td>2018-08-13 16:18:48</td>\n      <td>2018-08-27</td>\n      <td>b532349fe46b38fbc7bb3914c1bdae07</td>\n      <td>1025f0e2d44d7041d6cf58b6550e0bfa</td>\n      <td>35.00</td>\n      <td>19.44</td>\n    </tr>\n    <tr>\n      <th>46</th>\n      <td>00f6ac4816d12f49026b09f2aa77d15f</td>\n      <td>9bb70fa63970b9d88191a90481d551da</td>\n      <td>delivered</td>\n      <td>2018-08-06 17:17:40</td>\n      <td>2018-08-06 17:30:14</td>\n      <td>2018-08-07 14:39:00</td>\n      <td>2018-08-13 16:18:48</td>\n      <td>2018-08-27</td>\n      <td>b532349fe46b38fbc7bb3914c1bdae07</td>\n      <td>1025f0e2d44d7041d6cf58b6550e0bfa</td>\n      <td>35.00</td>\n      <td>19.44</td>\n    </tr>\n    <tr>\n      <th>55</th>\n      <td>01115c06246220def210911556bdc0e5</td>\n      <td>7db5bde0f0fcee8817a4c317cf05429a</td>\n      <td>delivered</td>\n      <td>2018-03-14 09:20:38</td>\n      <td>2018-03-14 09:35:34</td>\n      <td>2018-03-14 19:22:05</td>\n      <td>2018-04-03 00:07:46</td>\n      <td>2018-04-04</td>\n      <td>c31539851232e3accbf0ef4c571f97f2</td>\n      <td>602044f2c16190c2c6e45eb35c2e21cb</td>\n      <td>52.50</td>\n      <td>19.34</td>\n    </tr>\n    <tr>\n      <th>71</th>\n      <td>014e36af18c280a94d880a16b2f00713</td>\n      <td>0523cd19f27a70bda29f2efb68a2db10</td>\n      <td>delivered</td>\n      <td>2017-11-01 18:14:32</td>\n      <td>2017-11-02 02:35:56</td>\n      <td>2017-11-03 19:14:58</td>\n      <td>2017-11-09 20:18:46</td>\n      <td>2017-11-23</td>\n      <td>33f789f4b4fa74053af0199658b78853</td>\n      <td>897060da8b9a21f655304d50fd935913</td>\n      <td>30.00</td>\n      <td>12.69</td>\n    </tr>\n    <tr>\n      <th>...</th>\n      <td>...</td>\n      <td>...</td>\n      <td>...</td>\n      <td>...</td>\n      <td>...</td>\n      <td>...</td>\n      <td>...</td>\n      <td>...</td>\n      <td>...</td>\n      <td>...</td>\n      <td>...</td>\n      <td>...</td>\n    </tr>\n    <tr>\n      <th>113264</th>\n      <td>ff4935343715e7a6dae3e550f73a6459</td>\n      <td>8bbd68396f2112f979111bfdd363e286</td>\n      <td>delivered</td>\n      <td>2017-10-10 15:41:10</td>\n      <td>2017-10-12 02:29:16</td>\n      <td>2017-10-16 20:57:40</td>\n      <td>2017-10-23 18:43:06</td>\n      <td>2017-11-13</td>\n      <td>013e6676e0e3529e5909ff54370daddf</td>\n      <td>1c68394e931a64f90ea236c5ea590300</td>\n      <td>299.90</td>\n      <td>16.85</td>\n    </tr>\n    <tr>\n      <th>113278</th>\n      <td>ff9770f7299db492e5fe01b4a231341b</td>\n      <td>c57b89d756843557ab53f7c679ea0572</td>\n      <td>delivered</td>\n      <td>2018-03-12 07:41:09</td>\n      <td>2018-03-12 07:50:28</td>\n      <td>2018-03-16 18:06:53</td>\n      <td>2018-04-04 15:05:24</td>\n      <td>2018-04-06</td>\n      <td>67bd616e1ba0d3d3e8545f3113b0140d</td>\n      <td>e9779976487b77c6d4ac45f75ec7afe9</td>\n      <td>16.49</td>\n      <td>18.23</td>\n    </tr>\n    <tr>\n      <th>113286</th>\n      <td>ffb18bf111fa70edf316eb0390427986</td>\n      <td>5c8f393ae866c2a2d2e775dbc2409a59</td>\n      <td>delivered</td>\n      <td>2017-11-27 13:29:05</td>\n      <td>2017-11-27 13:39:22</td>\n      <td>2017-11-28 22:15:05</td>\n      <td>2017-12-05 18:38:53</td>\n      <td>2017-12-21</td>\n      <td>599dc392f7a23273471b068d72408224</td>\n      <td>a08692680c77d30a0b4280da5df01c5a</td>\n      <td>235.00</td>\n      <td>19.30</td>\n    </tr>\n    <tr>\n      <th>113289</th>\n      <td>ffb9a9cd00c74c11c24aa30b3d78e03b</td>\n      <td>81a0150b8f472d0e5e82a7da198b93bc</td>\n      <td>delivered</td>\n      <td>2017-03-11 17:20:21</td>\n      <td>2017-03-11 17:20:21</td>\n      <td>2017-03-22 08:48:30</td>\n      <td>2017-03-28 15:26:02</td>\n      <td>2017-04-13</td>\n      <td>fec565c4e3ad965c73fb1a21bb809257</td>\n      <td>da8622b14eb17ae2831f4ac5b9dab84a</td>\n      <td>89.90</td>\n      <td>18.34</td>\n    </tr>\n    <tr>\n      <th>113315</th>\n      <td>fff8287bbae429a99bb7e8c21d151c41</td>\n      <td>6c1e92a209dbf868706caa831090941e</td>\n      <td>delivered</td>\n      <td>2018-03-17 12:11:45</td>\n      <td>2018-03-17 12:29:22</td>\n      <td>2018-03-21 19:22:25</td>\n      <td>2018-04-07 10:07:48</td>\n      <td>2018-04-19</td>\n      <td>bee2e070c39f3dd2f6883a17a5f0da45</td>\n      <td>4e922959ae960d389249c378d1c939f5</td>\n      <td>180.00</td>\n      <td>48.14</td>\n    </tr>\n  </tbody>\n</table>\n<p>10225 rows × 12 columns</p>\n</div>"
     },
     "execution_count": 8,
     "metadata": {},
     "output_type": "execute_result"
    }
   ],
   "source": [
    "sales_df[sales_df.duplicated()]"
   ],
   "metadata": {
    "collapsed": false,
    "ExecuteTime": {
     "end_time": "2025-03-03T22:11:47.942126Z",
     "start_time": "2025-03-03T22:11:47.780570Z"
    }
   },
   "id": "9460f4efd2648dfd",
   "execution_count": 8
  },
  {
   "cell_type": "code",
   "outputs": [],
   "source": [
    "sales_df.drop_duplicates(inplace=True) ## supprimer les doublons definitivement"
   ],
   "metadata": {
    "collapsed": false,
    "ExecuteTime": {
     "end_time": "2025-03-03T22:11:50.765827Z",
     "start_time": "2025-03-03T22:11:50.593952Z"
    }
   },
   "id": "524545c0c43e18c2",
   "execution_count": 9
  },
  {
   "cell_type": "code",
   "outputs": [
    {
     "data": {
      "text/plain": "            order_purchase_timestamp   order_delivered_carrier_date  \\\ncount                         103200                         101398   \nmean   2017-12-31 09:37:41.742626048  2018-01-04 22:11:21.820223488   \nmin              2016-09-04 21:15:19            2016-10-08 10:34:01   \n25%    2017-09-12 16:00:29.249999872  2017-09-15 23:20:56.249999872   \n50%       2018-01-18 19:47:54.500000            2018-01-24 11:08:32   \n75%    2018-05-04 17:01:38.750000128            2018-05-08 13:51:00   \nmax              2018-10-17 17:30:18            2018-09-11 19:48:28   \nstd                              NaN                            NaN   \n\n       order_delivered_customer_date  order_estimated_delivery_date  \\\ncount                         100195                         103200   \nmean   2018-01-14 11:17:50.464214784  2018-01-24 05:06:07.534883840   \nmin              2016-10-11 13:46:32            2016-09-30 00:00:00   \n25%       2017-09-25 21:59:43.500000            2017-10-03 00:00:00   \n50%              2018-02-02 16:04:10            2018-02-15 00:00:00   \n75%              2018-05-15 23:27:31            2018-05-28 00:00:00   \nmax              2018-10-17 13:22:46            2018-11-12 00:00:00   \nstd                              NaN                            NaN   \n\n               price  freight_value  \ncount  102425.000000  102425.000000  \nmean      124.422006      20.111152  \nmin         0.850000       0.000000  \n25%        40.000000      13.140000  \n50%        78.800000      16.320000  \n75%       139.000000      21.220000  \nmax      6735.000000     409.680000  \nstd       188.926084      15.884700  ",
      "text/html": "<div>\n<style scoped>\n    .dataframe tbody tr th:only-of-type {\n        vertical-align: middle;\n    }\n\n    .dataframe tbody tr th {\n        vertical-align: top;\n    }\n\n    .dataframe thead th {\n        text-align: right;\n    }\n</style>\n<table border=\"1\" class=\"dataframe\">\n  <thead>\n    <tr style=\"text-align: right;\">\n      <th></th>\n      <th>order_purchase_timestamp</th>\n      <th>order_delivered_carrier_date</th>\n      <th>order_delivered_customer_date</th>\n      <th>order_estimated_delivery_date</th>\n      <th>price</th>\n      <th>freight_value</th>\n    </tr>\n  </thead>\n  <tbody>\n    <tr>\n      <th>count</th>\n      <td>103200</td>\n      <td>101398</td>\n      <td>100195</td>\n      <td>103200</td>\n      <td>102425.000000</td>\n      <td>102425.000000</td>\n    </tr>\n    <tr>\n      <th>mean</th>\n      <td>2017-12-31 09:37:41.742626048</td>\n      <td>2018-01-04 22:11:21.820223488</td>\n      <td>2018-01-14 11:17:50.464214784</td>\n      <td>2018-01-24 05:06:07.534883840</td>\n      <td>124.422006</td>\n      <td>20.111152</td>\n    </tr>\n    <tr>\n      <th>min</th>\n      <td>2016-09-04 21:15:19</td>\n      <td>2016-10-08 10:34:01</td>\n      <td>2016-10-11 13:46:32</td>\n      <td>2016-09-30 00:00:00</td>\n      <td>0.850000</td>\n      <td>0.000000</td>\n    </tr>\n    <tr>\n      <th>25%</th>\n      <td>2017-09-12 16:00:29.249999872</td>\n      <td>2017-09-15 23:20:56.249999872</td>\n      <td>2017-09-25 21:59:43.500000</td>\n      <td>2017-10-03 00:00:00</td>\n      <td>40.000000</td>\n      <td>13.140000</td>\n    </tr>\n    <tr>\n      <th>50%</th>\n      <td>2018-01-18 19:47:54.500000</td>\n      <td>2018-01-24 11:08:32</td>\n      <td>2018-02-02 16:04:10</td>\n      <td>2018-02-15 00:00:00</td>\n      <td>78.800000</td>\n      <td>16.320000</td>\n    </tr>\n    <tr>\n      <th>75%</th>\n      <td>2018-05-04 17:01:38.750000128</td>\n      <td>2018-05-08 13:51:00</td>\n      <td>2018-05-15 23:27:31</td>\n      <td>2018-05-28 00:00:00</td>\n      <td>139.000000</td>\n      <td>21.220000</td>\n    </tr>\n    <tr>\n      <th>max</th>\n      <td>2018-10-17 17:30:18</td>\n      <td>2018-09-11 19:48:28</td>\n      <td>2018-10-17 13:22:46</td>\n      <td>2018-11-12 00:00:00</td>\n      <td>6735.000000</td>\n      <td>409.680000</td>\n    </tr>\n    <tr>\n      <th>std</th>\n      <td>NaN</td>\n      <td>NaN</td>\n      <td>NaN</td>\n      <td>NaN</td>\n      <td>188.926084</td>\n      <td>15.884700</td>\n    </tr>\n  </tbody>\n</table>\n</div>"
     },
     "execution_count": 10,
     "metadata": {},
     "output_type": "execute_result"
    }
   ],
   "source": [
    "sales_df.describe() "
   ],
   "metadata": {
    "collapsed": false,
    "ExecuteTime": {
     "end_time": "2025-03-03T22:11:52.977391Z",
     "start_time": "2025-03-03T22:11:52.939789Z"
    }
   },
   "id": "8dfd055d8913cfef",
   "execution_count": 10
  },
  {
   "cell_type": "code",
   "outputs": [
    {
     "data": {
      "text/plain": "200"
     },
     "execution_count": 11,
     "metadata": {},
     "output_type": "execute_result"
    }
   ],
   "source": [
    "## en reversera maintenant notre data dans notre data warehouse\n",
    "sales_df.to_sql('sales_fact',engine_core)"
   ],
   "metadata": {
    "collapsed": false,
    "ExecuteTime": {
     "end_time": "2025-03-03T22:12:01.822793Z",
     "start_time": "2025-03-03T22:11:55.444583Z"
    }
   },
   "id": "646d86096a11e023",
   "execution_count": 11
  },
  {
   "cell_type": "code",
   "outputs": [
    {
     "data": {
      "text/plain": "   index                       customer_id                customer_unique_id  \\\n0      0  06b8999e2fba1a1fbc88172c00ba8bc7  861eff4711a542e4b93843c6dd7febb0   \n1      1  18955e83d337fd6b2def6b18a428ac77  290c77bc529b7ac935b93aa66c333dc3   \n2      2  4e7b3e00288586ebd08712fdd0374a03  060e732b5b29e8181a18229c7b0b2b5e   \n3      3  b2b6027bc5c5109e529d4dc6358b12c3  259dac757896d24d7702b9acbbff3f3c   \n4      4  4f2d8ab171c80ec8364f7c12e35b23ad  345ecd01c38d18a9036ed96c73b8d066   \n\n   customer_zip_code_prefix          customer_city customer_state  \n0                     14409                 franca             SP  \n1                      9790  sao bernardo do campo             SP  \n2                      1151              sao paulo             SP  \n3                      8775        mogi das cruzes             SP  \n4                     13056               campinas             SP  ",
      "text/html": "<div>\n<style scoped>\n    .dataframe tbody tr th:only-of-type {\n        vertical-align: middle;\n    }\n\n    .dataframe tbody tr th {\n        vertical-align: top;\n    }\n\n    .dataframe thead th {\n        text-align: right;\n    }\n</style>\n<table border=\"1\" class=\"dataframe\">\n  <thead>\n    <tr style=\"text-align: right;\">\n      <th></th>\n      <th>index</th>\n      <th>customer_id</th>\n      <th>customer_unique_id</th>\n      <th>customer_zip_code_prefix</th>\n      <th>customer_city</th>\n      <th>customer_state</th>\n    </tr>\n  </thead>\n  <tbody>\n    <tr>\n      <th>0</th>\n      <td>0</td>\n      <td>06b8999e2fba1a1fbc88172c00ba8bc7</td>\n      <td>861eff4711a542e4b93843c6dd7febb0</td>\n      <td>14409</td>\n      <td>franca</td>\n      <td>SP</td>\n    </tr>\n    <tr>\n      <th>1</th>\n      <td>1</td>\n      <td>18955e83d337fd6b2def6b18a428ac77</td>\n      <td>290c77bc529b7ac935b93aa66c333dc3</td>\n      <td>9790</td>\n      <td>sao bernardo do campo</td>\n      <td>SP</td>\n    </tr>\n    <tr>\n      <th>2</th>\n      <td>2</td>\n      <td>4e7b3e00288586ebd08712fdd0374a03</td>\n      <td>060e732b5b29e8181a18229c7b0b2b5e</td>\n      <td>1151</td>\n      <td>sao paulo</td>\n      <td>SP</td>\n    </tr>\n    <tr>\n      <th>3</th>\n      <td>3</td>\n      <td>b2b6027bc5c5109e529d4dc6358b12c3</td>\n      <td>259dac757896d24d7702b9acbbff3f3c</td>\n      <td>8775</td>\n      <td>mogi das cruzes</td>\n      <td>SP</td>\n    </tr>\n    <tr>\n      <th>4</th>\n      <td>4</td>\n      <td>4f2d8ab171c80ec8364f7c12e35b23ad</td>\n      <td>345ecd01c38d18a9036ed96c73b8d066</td>\n      <td>13056</td>\n      <td>campinas</td>\n      <td>SP</td>\n    </tr>\n  </tbody>\n</table>\n</div>"
     },
     "execution_count": 12,
     "metadata": {},
     "output_type": "execute_result"
    }
   ],
   "source": [
    "### dimensions\n",
    "## in pandas you can read data via queries or just give the table name\n",
    "cust = pd.read_sql('customers',engine)\n",
    "cust.head()"
   ],
   "metadata": {
    "collapsed": false,
    "ExecuteTime": {
     "end_time": "2025-03-03T22:17:50.226095Z",
     "start_time": "2025-03-03T22:17:49.760990Z"
    }
   },
   "id": "e9cb669f384f356f",
   "execution_count": 12
  },
  {
   "cell_type": "code",
   "outputs": [
    {
     "data": {
      "text/plain": "              index  customer_zip_code_prefix\ncount  99441.000000              99441.000000\nmean   49720.000000              35137.474583\nstd    28706.288396              29797.938996\nmin        0.000000               1003.000000\n25%    24860.000000              11347.000000\n50%    49720.000000              24416.000000\n75%    74580.000000              58900.000000\nmax    99440.000000              99990.000000",
      "text/html": "<div>\n<style scoped>\n    .dataframe tbody tr th:only-of-type {\n        vertical-align: middle;\n    }\n\n    .dataframe tbody tr th {\n        vertical-align: top;\n    }\n\n    .dataframe thead th {\n        text-align: right;\n    }\n</style>\n<table border=\"1\" class=\"dataframe\">\n  <thead>\n    <tr style=\"text-align: right;\">\n      <th></th>\n      <th>index</th>\n      <th>customer_zip_code_prefix</th>\n    </tr>\n  </thead>\n  <tbody>\n    <tr>\n      <th>count</th>\n      <td>99441.000000</td>\n      <td>99441.000000</td>\n    </tr>\n    <tr>\n      <th>mean</th>\n      <td>49720.000000</td>\n      <td>35137.474583</td>\n    </tr>\n    <tr>\n      <th>std</th>\n      <td>28706.288396</td>\n      <td>29797.938996</td>\n    </tr>\n    <tr>\n      <th>min</th>\n      <td>0.000000</td>\n      <td>1003.000000</td>\n    </tr>\n    <tr>\n      <th>25%</th>\n      <td>24860.000000</td>\n      <td>11347.000000</td>\n    </tr>\n    <tr>\n      <th>50%</th>\n      <td>49720.000000</td>\n      <td>24416.000000</td>\n    </tr>\n    <tr>\n      <th>75%</th>\n      <td>74580.000000</td>\n      <td>58900.000000</td>\n    </tr>\n    <tr>\n      <th>max</th>\n      <td>99440.000000</td>\n      <td>99990.000000</td>\n    </tr>\n  </tbody>\n</table>\n</div>"
     },
     "execution_count": 13,
     "metadata": {},
     "output_type": "execute_result"
    }
   ],
   "source": [
    "cust.describe()"
   ],
   "metadata": {
    "collapsed": false,
    "ExecuteTime": {
     "end_time": "2025-03-03T22:18:21.513748Z",
     "start_time": "2025-03-03T22:18:21.500655Z"
    }
   },
   "id": "a252f8624557f706",
   "execution_count": 13
  },
  {
   "cell_type": "code",
   "outputs": [
    {
     "data": {
      "text/plain": "Empty DataFrame\nColumns: [index, customer_id, customer_unique_id, customer_zip_code_prefix, customer_city, customer_state]\nIndex: []",
      "text/html": "<div>\n<style scoped>\n    .dataframe tbody tr th:only-of-type {\n        vertical-align: middle;\n    }\n\n    .dataframe tbody tr th {\n        vertical-align: top;\n    }\n\n    .dataframe thead th {\n        text-align: right;\n    }\n</style>\n<table border=\"1\" class=\"dataframe\">\n  <thead>\n    <tr style=\"text-align: right;\">\n      <th></th>\n      <th>index</th>\n      <th>customer_id</th>\n      <th>customer_unique_id</th>\n      <th>customer_zip_code_prefix</th>\n      <th>customer_city</th>\n      <th>customer_state</th>\n    </tr>\n  </thead>\n  <tbody>\n  </tbody>\n</table>\n</div>"
     },
     "execution_count": 14,
     "metadata": {},
     "output_type": "execute_result"
    }
   ],
   "source": [
    "cust[cust.duplicated()]"
   ],
   "metadata": {
    "collapsed": false,
    "ExecuteTime": {
     "end_time": "2025-03-03T22:18:39.690253Z",
     "start_time": "2025-03-03T22:18:39.621889Z"
    }
   },
   "id": "468b0259a6849bdd",
   "execution_count": 14
  },
  {
   "cell_type": "code",
   "outputs": [
    {
     "data": {
      "text/plain": "index                       False\ncustomer_id                 False\ncustomer_unique_id          False\ncustomer_zip_code_prefix    False\ncustomer_city               False\ncustomer_state              False\ndtype: bool"
     },
     "execution_count": 16,
     "metadata": {},
     "output_type": "execute_result"
    }
   ],
   "source": [
    "cust.isnull().any()\n",
    "## i need now to use the index (surrogate keys) and map them in my facts instead of using the whole key\n",
    "## to methodes i can make it happen here in pandas or use an update query\n",
    "## but for now i'll be using sql"
   ],
   "metadata": {
    "collapsed": false,
    "ExecuteTime": {
     "end_time": "2025-03-03T22:19:04.647786Z",
     "start_time": "2025-03-03T22:19:04.625832Z"
    }
   },
   "id": "85894da44f5a51f1",
   "execution_count": 16
  },
  {
   "cell_type": "code",
   "outputs": [
    {
     "data": {
      "text/plain": "   index                       customer_id                customer_unique_id  \\\n0      1  06b8999e2fba1a1fbc88172c00ba8bc7  861eff4711a542e4b93843c6dd7febb0   \n1      2  18955e83d337fd6b2def6b18a428ac77  290c77bc529b7ac935b93aa66c333dc3   \n2      3  4e7b3e00288586ebd08712fdd0374a03  060e732b5b29e8181a18229c7b0b2b5e   \n3      4  b2b6027bc5c5109e529d4dc6358b12c3  259dac757896d24d7702b9acbbff3f3c   \n4      5  4f2d8ab171c80ec8364f7c12e35b23ad  345ecd01c38d18a9036ed96c73b8d066   \n\n   customer_zip_code_prefix          customer_city customer_state  \n0                     14409                 franca             SP  \n1                      9790  sao bernardo do campo             SP  \n2                      1151              sao paulo             SP  \n3                      8775        mogi das cruzes             SP  \n4                     13056               campinas             SP  ",
      "text/html": "<div>\n<style scoped>\n    .dataframe tbody tr th:only-of-type {\n        vertical-align: middle;\n    }\n\n    .dataframe tbody tr th {\n        vertical-align: top;\n    }\n\n    .dataframe thead th {\n        text-align: right;\n    }\n</style>\n<table border=\"1\" class=\"dataframe\">\n  <thead>\n    <tr style=\"text-align: right;\">\n      <th></th>\n      <th>index</th>\n      <th>customer_id</th>\n      <th>customer_unique_id</th>\n      <th>customer_zip_code_prefix</th>\n      <th>customer_city</th>\n      <th>customer_state</th>\n    </tr>\n  </thead>\n  <tbody>\n    <tr>\n      <th>0</th>\n      <td>1</td>\n      <td>06b8999e2fba1a1fbc88172c00ba8bc7</td>\n      <td>861eff4711a542e4b93843c6dd7febb0</td>\n      <td>14409</td>\n      <td>franca</td>\n      <td>SP</td>\n    </tr>\n    <tr>\n      <th>1</th>\n      <td>2</td>\n      <td>18955e83d337fd6b2def6b18a428ac77</td>\n      <td>290c77bc529b7ac935b93aa66c333dc3</td>\n      <td>9790</td>\n      <td>sao bernardo do campo</td>\n      <td>SP</td>\n    </tr>\n    <tr>\n      <th>2</th>\n      <td>3</td>\n      <td>4e7b3e00288586ebd08712fdd0374a03</td>\n      <td>060e732b5b29e8181a18229c7b0b2b5e</td>\n      <td>1151</td>\n      <td>sao paulo</td>\n      <td>SP</td>\n    </tr>\n    <tr>\n      <th>3</th>\n      <td>4</td>\n      <td>b2b6027bc5c5109e529d4dc6358b12c3</td>\n      <td>259dac757896d24d7702b9acbbff3f3c</td>\n      <td>8775</td>\n      <td>mogi das cruzes</td>\n      <td>SP</td>\n    </tr>\n    <tr>\n      <th>4</th>\n      <td>5</td>\n      <td>4f2d8ab171c80ec8364f7c12e35b23ad</td>\n      <td>345ecd01c38d18a9036ed96c73b8d066</td>\n      <td>13056</td>\n      <td>campinas</td>\n      <td>SP</td>\n    </tr>\n  </tbody>\n</table>\n</div>"
     },
     "execution_count": 17,
     "metadata": {},
     "output_type": "execute_result"
    }
   ],
   "source": [
    "cust['index'] = cust['index'] + 1 \n",
    "cust.head()"
   ],
   "metadata": {
    "collapsed": false,
    "ExecuteTime": {
     "end_time": "2025-03-03T22:25:44.174230Z",
     "start_time": "2025-03-03T22:25:44.165148Z"
    }
   },
   "id": "cee65a34f12e726d",
   "execution_count": 17
  },
  {
   "cell_type": "code",
   "outputs": [
    {
     "data": {
      "text/plain": "441"
     },
     "execution_count": 18,
     "metadata": {},
     "output_type": "execute_result"
    }
   ],
   "source": [
    "cust.to_sql('dim_customers',engine_core)"
   ],
   "metadata": {
    "collapsed": false,
    "ExecuteTime": {
     "end_time": "2025-03-03T22:26:20.126006Z",
     "start_time": "2025-03-03T22:26:16.887446Z"
    }
   },
   "id": "76ba744bbc854e9e",
   "execution_count": 18
  },
  {
   "cell_type": "code",
   "outputs": [
    {
     "data": {
      "text/plain": "   index                        product_id  product_category_name  \\\n0      0  1e9e8ef04dbcff4541ed26657ea517e5             perfumaria   \n1      1  3aa071139cb16b67ca9e5dea641aaa2f                  artes   \n2      2  96bd76ec8810374ed1b65e291975717f          esporte_lazer   \n3      3  cef67bcfe19066a932b7673e239eb23d                  bebes   \n4      4  9dc1a7de274444849c219cff195d0b71  utilidades_domesticas   \n\n   product_name_lenght  product_description_lenght  product_photos_qty  \\\n0                 40.0                       287.0                 1.0   \n1                 44.0                       276.0                 1.0   \n2                 46.0                       250.0                 1.0   \n3                 27.0                       261.0                 1.0   \n4                 37.0                       402.0                 4.0   \n\n   product_weight_g  product_length_cm  product_height_cm  product_width_cm  \n0             225.0               16.0               10.0              14.0  \n1            1000.0               30.0               18.0              20.0  \n2             154.0               18.0                9.0              15.0  \n3             371.0               26.0                4.0              26.0  \n4             625.0               20.0               17.0              13.0  ",
      "text/html": "<div>\n<style scoped>\n    .dataframe tbody tr th:only-of-type {\n        vertical-align: middle;\n    }\n\n    .dataframe tbody tr th {\n        vertical-align: top;\n    }\n\n    .dataframe thead th {\n        text-align: right;\n    }\n</style>\n<table border=\"1\" class=\"dataframe\">\n  <thead>\n    <tr style=\"text-align: right;\">\n      <th></th>\n      <th>index</th>\n      <th>product_id</th>\n      <th>product_category_name</th>\n      <th>product_name_lenght</th>\n      <th>product_description_lenght</th>\n      <th>product_photos_qty</th>\n      <th>product_weight_g</th>\n      <th>product_length_cm</th>\n      <th>product_height_cm</th>\n      <th>product_width_cm</th>\n    </tr>\n  </thead>\n  <tbody>\n    <tr>\n      <th>0</th>\n      <td>0</td>\n      <td>1e9e8ef04dbcff4541ed26657ea517e5</td>\n      <td>perfumaria</td>\n      <td>40.0</td>\n      <td>287.0</td>\n      <td>1.0</td>\n      <td>225.0</td>\n      <td>16.0</td>\n      <td>10.0</td>\n      <td>14.0</td>\n    </tr>\n    <tr>\n      <th>1</th>\n      <td>1</td>\n      <td>3aa071139cb16b67ca9e5dea641aaa2f</td>\n      <td>artes</td>\n      <td>44.0</td>\n      <td>276.0</td>\n      <td>1.0</td>\n      <td>1000.0</td>\n      <td>30.0</td>\n      <td>18.0</td>\n      <td>20.0</td>\n    </tr>\n    <tr>\n      <th>2</th>\n      <td>2</td>\n      <td>96bd76ec8810374ed1b65e291975717f</td>\n      <td>esporte_lazer</td>\n      <td>46.0</td>\n      <td>250.0</td>\n      <td>1.0</td>\n      <td>154.0</td>\n      <td>18.0</td>\n      <td>9.0</td>\n      <td>15.0</td>\n    </tr>\n    <tr>\n      <th>3</th>\n      <td>3</td>\n      <td>cef67bcfe19066a932b7673e239eb23d</td>\n      <td>bebes</td>\n      <td>27.0</td>\n      <td>261.0</td>\n      <td>1.0</td>\n      <td>371.0</td>\n      <td>26.0</td>\n      <td>4.0</td>\n      <td>26.0</td>\n    </tr>\n    <tr>\n      <th>4</th>\n      <td>4</td>\n      <td>9dc1a7de274444849c219cff195d0b71</td>\n      <td>utilidades_domesticas</td>\n      <td>37.0</td>\n      <td>402.0</td>\n      <td>4.0</td>\n      <td>625.0</td>\n      <td>20.0</td>\n      <td>17.0</td>\n      <td>13.0</td>\n    </tr>\n  </tbody>\n</table>\n</div>"
     },
     "execution_count": 2,
     "metadata": {},
     "output_type": "execute_result"
    }
   ],
   "source": [
    "prod = pd.read_sql('products',engine)\n",
    "prod.head()"
   ],
   "metadata": {
    "collapsed": false,
    "ExecuteTime": {
     "end_time": "2025-03-04T22:02:44.203341Z",
     "start_time": "2025-03-04T22:02:43.819491Z"
    }
   },
   "id": "5fc77dd8b7a618f2",
   "execution_count": 2
  },
  {
   "cell_type": "code",
   "outputs": [
    {
     "data": {
      "text/plain": "Empty DataFrame\nColumns: [index, product_id, product_category_name, product_name_lenght, product_description_lenght, product_photos_qty, product_weight_g, product_length_cm, product_height_cm, product_width_cm]\nIndex: []",
      "text/html": "<div>\n<style scoped>\n    .dataframe tbody tr th:only-of-type {\n        vertical-align: middle;\n    }\n\n    .dataframe tbody tr th {\n        vertical-align: top;\n    }\n\n    .dataframe thead th {\n        text-align: right;\n    }\n</style>\n<table border=\"1\" class=\"dataframe\">\n  <thead>\n    <tr style=\"text-align: right;\">\n      <th></th>\n      <th>index</th>\n      <th>product_id</th>\n      <th>product_category_name</th>\n      <th>product_name_lenght</th>\n      <th>product_description_lenght</th>\n      <th>product_photos_qty</th>\n      <th>product_weight_g</th>\n      <th>product_length_cm</th>\n      <th>product_height_cm</th>\n      <th>product_width_cm</th>\n    </tr>\n  </thead>\n  <tbody>\n  </tbody>\n</table>\n</div>"
     },
     "execution_count": 3,
     "metadata": {},
     "output_type": "execute_result"
    }
   ],
   "source": [
    "prod[prod.duplicated()]"
   ],
   "metadata": {
    "collapsed": false,
    "ExecuteTime": {
     "end_time": "2025-03-04T22:02:46.943964Z",
     "start_time": "2025-03-04T22:02:46.921247Z"
    }
   },
   "id": "c47a59fe13bca368",
   "execution_count": 3
  },
  {
   "cell_type": "code",
   "outputs": [
    {
     "data": {
      "text/plain": "index                         False\nproduct_id                    False\nproduct_category_name          True\nproduct_name_lenght            True\nproduct_description_lenght     True\nproduct_photos_qty             True\nproduct_weight_g               True\nproduct_length_cm              True\nproduct_height_cm              True\nproduct_width_cm               True\ndtype: bool"
     },
     "execution_count": 4,
     "metadata": {},
     "output_type": "execute_result"
    }
   ],
   "source": [
    "prod.isnull().any()"
   ],
   "metadata": {
    "collapsed": false,
    "ExecuteTime": {
     "end_time": "2025-03-04T22:02:48.033208Z",
     "start_time": "2025-03-04T22:02:48.024906Z"
    }
   },
   "id": "5e005223564f5d79",
   "execution_count": 4
  },
  {
   "cell_type": "code",
   "outputs": [
    {
     "data": {
      "text/plain": "   index                        product_id  product_category_name\n0      0  1e9e8ef04dbcff4541ed26657ea517e5             perfumaria\n1      1  3aa071139cb16b67ca9e5dea641aaa2f                  artes\n2      2  96bd76ec8810374ed1b65e291975717f          esporte_lazer\n3      3  cef67bcfe19066a932b7673e239eb23d                  bebes\n4      4  9dc1a7de274444849c219cff195d0b71  utilidades_domesticas",
      "text/html": "<div>\n<style scoped>\n    .dataframe tbody tr th:only-of-type {\n        vertical-align: middle;\n    }\n\n    .dataframe tbody tr th {\n        vertical-align: top;\n    }\n\n    .dataframe thead th {\n        text-align: right;\n    }\n</style>\n<table border=\"1\" class=\"dataframe\">\n  <thead>\n    <tr style=\"text-align: right;\">\n      <th></th>\n      <th>index</th>\n      <th>product_id</th>\n      <th>product_category_name</th>\n    </tr>\n  </thead>\n  <tbody>\n    <tr>\n      <th>0</th>\n      <td>0</td>\n      <td>1e9e8ef04dbcff4541ed26657ea517e5</td>\n      <td>perfumaria</td>\n    </tr>\n    <tr>\n      <th>1</th>\n      <td>1</td>\n      <td>3aa071139cb16b67ca9e5dea641aaa2f</td>\n      <td>artes</td>\n    </tr>\n    <tr>\n      <th>2</th>\n      <td>2</td>\n      <td>96bd76ec8810374ed1b65e291975717f</td>\n      <td>esporte_lazer</td>\n    </tr>\n    <tr>\n      <th>3</th>\n      <td>3</td>\n      <td>cef67bcfe19066a932b7673e239eb23d</td>\n      <td>bebes</td>\n    </tr>\n    <tr>\n      <th>4</th>\n      <td>4</td>\n      <td>9dc1a7de274444849c219cff195d0b71</td>\n      <td>utilidades_domesticas</td>\n    </tr>\n  </tbody>\n</table>\n</div>"
     },
     "execution_count": 5,
     "metadata": {},
     "output_type": "execute_result"
    }
   ],
   "source": [
    "prod = prod.drop(columns=['product_name_lenght','product_description_lenght','product_photos_qty','product_weight_g','product_width_cm','product_height_cm','product_length_cm'])\n",
    "prod.head()"
   ],
   "metadata": {
    "collapsed": false,
    "ExecuteTime": {
     "end_time": "2025-03-04T22:02:48.873180Z",
     "start_time": "2025-03-04T22:02:48.864838Z"
    }
   },
   "id": "510dcf991dc0f8e5",
   "execution_count": 5
  },
  {
   "cell_type": "code",
   "outputs": [],
   "source": [
    "prod['product_category_name'] = prod['product_category_name'].fillna('NoCategory')"
   ],
   "metadata": {
    "collapsed": false,
    "ExecuteTime": {
     "end_time": "2025-03-04T22:02:49.650426Z",
     "start_time": "2025-03-04T22:02:49.642385Z"
    }
   },
   "id": "c0cd684f5813dc75",
   "execution_count": 6
  },
  {
   "cell_type": "code",
   "outputs": [
    {
     "data": {
      "text/plain": "index                    False\nproduct_id               False\nproduct_category_name    False\ndtype: bool"
     },
     "execution_count": 7,
     "metadata": {},
     "output_type": "execute_result"
    }
   ],
   "source": [
    "prod.isnull().any()"
   ],
   "metadata": {
    "collapsed": false,
    "ExecuteTime": {
     "end_time": "2025-03-04T22:02:50.472630Z",
     "start_time": "2025-03-04T22:02:50.464925Z"
    }
   },
   "id": "26c08e249d1dda70",
   "execution_count": 7
  },
  {
   "cell_type": "code",
   "outputs": [
    {
     "data": {
      "text/plain": "   index                        product_id  product_category_name\n0      0  1e9e8ef04dbcff4541ed26657ea517e5             perfumaria\n1      1  3aa071139cb16b67ca9e5dea641aaa2f                  artes\n2      2  96bd76ec8810374ed1b65e291975717f          esporte_lazer\n3      3  cef67bcfe19066a932b7673e239eb23d                  bebes\n4      4  9dc1a7de274444849c219cff195d0b71  utilidades_domesticas",
      "text/html": "<div>\n<style scoped>\n    .dataframe tbody tr th:only-of-type {\n        vertical-align: middle;\n    }\n\n    .dataframe tbody tr th {\n        vertical-align: top;\n    }\n\n    .dataframe thead th {\n        text-align: right;\n    }\n</style>\n<table border=\"1\" class=\"dataframe\">\n  <thead>\n    <tr style=\"text-align: right;\">\n      <th></th>\n      <th>index</th>\n      <th>product_id</th>\n      <th>product_category_name</th>\n    </tr>\n  </thead>\n  <tbody>\n    <tr>\n      <th>0</th>\n      <td>0</td>\n      <td>1e9e8ef04dbcff4541ed26657ea517e5</td>\n      <td>perfumaria</td>\n    </tr>\n    <tr>\n      <th>1</th>\n      <td>1</td>\n      <td>3aa071139cb16b67ca9e5dea641aaa2f</td>\n      <td>artes</td>\n    </tr>\n    <tr>\n      <th>2</th>\n      <td>2</td>\n      <td>96bd76ec8810374ed1b65e291975717f</td>\n      <td>esporte_lazer</td>\n    </tr>\n    <tr>\n      <th>3</th>\n      <td>3</td>\n      <td>cef67bcfe19066a932b7673e239eb23d</td>\n      <td>bebes</td>\n    </tr>\n    <tr>\n      <th>4</th>\n      <td>4</td>\n      <td>9dc1a7de274444849c219cff195d0b71</td>\n      <td>utilidades_domesticas</td>\n    </tr>\n  </tbody>\n</table>\n</div>"
     },
     "execution_count": 8,
     "metadata": {},
     "output_type": "execute_result"
    }
   ],
   "source": [
    "prod.head()"
   ],
   "metadata": {
    "collapsed": false,
    "ExecuteTime": {
     "end_time": "2025-03-04T22:03:12.256071Z",
     "start_time": "2025-03-04T22:03:12.249709Z"
    }
   },
   "id": "e3e1e4619db0cdcc",
   "execution_count": 8
  },
  {
   "cell_type": "code",
   "outputs": [
    {
     "data": {
      "text/plain": "951"
     },
     "execution_count": 9,
     "metadata": {},
     "output_type": "execute_result"
    }
   ],
   "source": [
    "prod.to_sql('dim_products',engine_core)"
   ],
   "metadata": {
    "collapsed": false,
    "ExecuteTime": {
     "end_time": "2025-03-04T22:03:37.036476Z",
     "start_time": "2025-03-04T22:03:34.819764Z"
    }
   },
   "id": "9582d2d8d3fdf62c",
   "execution_count": 9
  },
  {
   "cell_type": "code",
   "outputs": [
    {
     "name": "stdout",
     "output_type": "stream",
     "text": [
      "<class 'pandas.core.frame.DataFrame'>\n",
      "RangeIndex: 32951 entries, 0 to 32950\n",
      "Data columns (total 3 columns):\n",
      " #   Column                 Non-Null Count  Dtype \n",
      "---  ------                 --------------  ----- \n",
      " 0   index                  32951 non-null  int64 \n",
      " 1   product_id             32951 non-null  object\n",
      " 2   product_category_name  32951 non-null  object\n",
      "dtypes: int64(1), object(2)\n",
      "memory usage: 772.4+ KB\n"
     ]
    }
   ],
   "source": [
    "prod.info()"
   ],
   "metadata": {
    "collapsed": false,
    "ExecuteTime": {
     "end_time": "2025-03-04T22:05:40.728194Z",
     "start_time": "2025-03-04T22:05:40.714970Z"
    }
   },
   "id": "4258e0dd8e21dadf",
   "execution_count": 12
  },
  {
   "cell_type": "code",
   "outputs": [],
   "source": [],
   "metadata": {
    "collapsed": false
   },
   "id": "d8b9f15dd7bccc55"
  }
 ],
 "metadata": {
  "kernelspec": {
   "display_name": "Python 3",
   "language": "python",
   "name": "python3"
  },
  "language_info": {
   "codemirror_mode": {
    "name": "ipython",
    "version": 2
   },
   "file_extension": ".py",
   "mimetype": "text/x-python",
   "name": "python",
   "nbconvert_exporter": "python",
   "pygments_lexer": "ipython2",
   "version": "2.7.6"
  }
 },
 "nbformat": 4,
 "nbformat_minor": 5
}
